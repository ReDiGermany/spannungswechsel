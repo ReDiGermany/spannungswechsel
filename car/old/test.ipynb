{
 "cells": [
  {
   "cell_type": "markdown",
   "metadata": {},
   "source": [
    "Importing default modules"
   ]
  },
  {
   "cell_type": "code",
   "execution_count": 25,
   "metadata": {},
   "outputs": [],
   "source": [
    "from board import SCL_1, SDA_1\n",
    "import busio\n",
    "import time\n",
    "from adafruit_pca9685 import PCA9685\n",
    "from adafruit_servokit import ServoKit\n",
    "\n",
    "from adafruit_motor import servo"
   ]
  },
  {
   "cell_type": "markdown",
   "metadata": {},
   "source": [
    "Init Board"
   ]
  },
  {
   "cell_type": "code",
   "execution_count": 26,
   "metadata": {},
   "outputs": [],
   "source": [
    "i2c = busio.I2C(SCL_1, SDA_1)\n",
    "pca = PCA9685(i2c, address = 0x40)\n",
    "Kit = ServoKit(channels=16,i2c=i2c)"
   ]
  },
  {
   "cell_type": "markdown",
   "metadata": {},
   "source": [
    "[WIP] Speed Controll\n",
    "- 0.1 to less => beep? - Check!\n",
    "- 0.2 yes."
   ]
  },
  {
   "cell_type": "code",
   "execution_count": 51,
   "metadata": {},
   "outputs": [],
   "source": [
    "Kit.continuous_servo[0].throttle = 0.2\n",
    "time.sleep(1)\n",
    "Kit.continuous_servo[0].throttle = 0"
   ]
  },
  {
   "cell_type": "code",
   "execution_count": 49,
   "metadata": {},
   "outputs": [],
   "source": [
    "Kit.continuous_servo[0].throttle = 0"
   ]
  },
  {
   "cell_type": "markdown",
   "metadata": {},
   "source": [
    "Controling steering radius"
   ]
  },
  {
   "cell_type": "code",
   "execution_count": 42,
   "metadata": {},
   "outputs": [
    {
     "name": "stdout",
     "output_type": "stream",
     "text": [
      "89.81699877999186\n",
      "109.72753151687677\n"
     ]
    }
   ],
   "source": [
    "print(Kit.servo[1].angle)\n",
    "Kit.servo[1].angle = 110\n",
    "print(Kit.servo[1].angle)"
   ]
  },
  {
   "cell_type": "code",
   "execution_count": 44,
   "metadata": {},
   "outputs": [
    {
     "name": "stdout",
     "output_type": "stream",
     "text": [
      "69.90646604310695\n",
      "89.81699877999186\n"
     ]
    }
   ],
   "source": [
    "print(Kit.servo[1].angle)\n",
    "Kit.servo[1].angle = 90\n",
    "print(Kit.servo[1].angle)"
   ]
  },
  {
   "cell_type": "code",
   "execution_count": 43,
   "metadata": {},
   "outputs": [
    {
     "name": "stdout",
     "output_type": "stream",
     "text": [
      "109.72753151687677\n",
      "69.90646604310695\n"
     ]
    }
   ],
   "source": [
    "print(Kit.servo[1].angle)\n",
    "Kit.servo[1].angle = 70\n",
    "print(Kit.servo[1].angle)"
   ]
  }
 ],
 "metadata": {
  "kernelspec": {
   "display_name": "Python 3.9.15 64-bit",
   "language": "python",
   "name": "python3"
  },
  "language_info": {
   "codemirror_mode": {
    "name": "ipython",
    "version": 3
   },
   "file_extension": ".py",
   "mimetype": "text/x-python",
   "name": "python",
   "nbconvert_exporter": "python",
   "pygments_lexer": "ipython3",
   "version": "3.9.15"
  },
  "orig_nbformat": 4,
  "vscode": {
   "interpreter": {
    "hash": "36cf16204b8548560b1c020c4e8fb5b57f0e4c58016f52f2d4be01e192833930"
   }
  }
 },
 "nbformat": 4,
 "nbformat_minor": 2
}
